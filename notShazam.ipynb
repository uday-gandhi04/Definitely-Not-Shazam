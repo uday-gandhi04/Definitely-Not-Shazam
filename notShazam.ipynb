{
 "cells": [
  {
   "cell_type": "code",
   "execution_count": 1,
   "id": "64351864",
   "metadata": {},
   "outputs": [],
   "source": [
    "import numpy as np\n",
    "import librosa\n",
    "import matplotlib.pyplot as plt\n",
    "import librosa.display\n",
    "from scipy.ndimage import maximum_filter, gaussian_filter\n",
    "import hashlib"
   ]
  },
  {
   "cell_type": "code",
   "execution_count": 4,
   "id": "bf005d94",
   "metadata": {},
   "outputs": [],
   "source": [
    "import hashlib\n",
    "\n",
    "def generate_hashes(peaks, fan_value=5):\n",
    "    \"\"\"\n",
    "    Generate landmark hashes from peaks.\n",
    "    Each hash is made from (freq1, freq2, delta_time), anchored at time1.\n",
    "    \"\"\"\n",
    "    hashes = []\n",
    "    peaks = sorted(peaks)  # Sort by time\n",
    "\n",
    "    for i in range(len(peaks)):\n",
    "        t1, f1 = peaks[i]\n",
    "\n",
    "        for j in range(1, fan_value + 1):\n",
    "            if i + j < len(peaks):\n",
    "                t2, f2 = peaks[i + j]\n",
    "\n",
    "                delta_t = t2 - t1\n",
    "                if 0 < delta_t <= 5.0:  # Limit max time delta for compact hashes\n",
    "                    # Create hash string\n",
    "                    hash_str = f\"{int(f1)}|{int(f2)}|{int(delta_t * 100)}\"\n",
    "                    h = hashlib.sha1(hash_str.encode('utf-8')).hexdigest()[0:20]  # Shorten for space\n",
    "                    hashes.append((h, t1))  # Store hash + anchor time\n",
    "\n",
    "    return hashes\n",
    "\n"
   ]
  },
  {
   "cell_type": "code",
   "execution_count": 24,
   "id": "5424f435",
   "metadata": {},
   "outputs": [
    {
     "name": "stderr",
     "output_type": "stream",
     "text": [
      "C:\\Users\\udayg\\AppData\\Local\\Temp\\ipykernel_16572\\82423531.py:8: UserWarning: PySoundFile failed. Trying audioread instead.\n",
      "  y, sr = librosa.load(song[\"location\"], sr=None)\n"
     ]
    }
   ],
   "source": [
    "import json\n",
    "\n",
    "with open('songs_meta.json', 'r', encoding='utf-8') as f:\n",
    "    songsMeta = json.load(f)\n",
    "\n",
    "hashIndex={}\n",
    "for song in songsMeta.values():\n",
    "    y, sr = librosa.load(song[\"location\"], sr=None)\n",
    "\n",
    "    # Step 2: Compute STFT\n",
    "    n_fft = 2048\n",
    "    hop_length = 512\n",
    "    S = librosa.stft(y, n_fft=n_fft, hop_length=hop_length)\n",
    "    S_mag = np.abs(S)\n",
    "\n",
    "    # Step 3: Smooth spectrogram (optional, helps with noisy peaks)\n",
    "    S_smooth = gaussian_filter(S_mag, sigma=1.0)\n",
    "\n",
    "    # Step 4: 2D local maxima detection\n",
    "    neighborhood_size = 20\n",
    "    local_max = maximum_filter(S_smooth, size=neighborhood_size) == S_smooth\n",
    "\n",
    "    # Step 5: Apply a threshold to keep only strong peaks\n",
    "    threshold = np.percentile(S_smooth[local_max], 95)  # keep top 5%\n",
    "    peak_mask = local_max & (S_smooth >= threshold)\n",
    "\n",
    "    # Step 6: Get peak coordinates (freq_bin, time_bin)\n",
    "    peak_indices = np.argwhere(peak_mask)\n",
    "\n",
    "    # Step 7: Convert to time (sec) and frequency (Hz)\n",
    "    peak_freqs = peak_indices[:, 0] * (sr / n_fft)\n",
    "    peak_times = peak_indices[:, 1] * (hop_length / sr)\n",
    "\n",
    "    # Combine for (time, freq) tuples\n",
    "    constellation_map = list(zip(peak_times, peak_freqs))\n",
    "\n",
    "    #get fingerprints\n",
    "    fingerprint = generate_hashes(constellation_map)\n",
    "\n",
    "    for h,t in fingerprint:\n",
    "        if h not in hashIndex:\n",
    "            hashIndex[h]=[(song[\"title\"],t)]\n",
    "        else:\n",
    "            hashIndex[h].append((song[\"title\"], t))"
   ]
  },
  {
   "cell_type": "code",
   "execution_count": 25,
   "id": "8f7b8216",
   "metadata": {},
   "outputs": [],
   "source": [
    "def SearchSong(songLocation):\n",
    "    \"\"\"\n",
    "    Search for a song by title and artist.\n",
    "    Returns the fingerprints if found, else None.\n",
    "    \"\"\"\n",
    "    y, sr = librosa.load(songLocation, sr=None)\n",
    "\n",
    "    # Step 2: Compute STFT\n",
    "    n_fft = 2048\n",
    "    hop_length = 512\n",
    "    S = librosa.stft(y, n_fft=n_fft, hop_length=hop_length)\n",
    "    S_mag = np.abs(S)\n",
    "\n",
    "    # Step 3: Smooth spectrogram (optional, helps with noisy peaks)\n",
    "    S_smooth = gaussian_filter(S_mag, sigma=1.0)\n",
    "\n",
    "    # Step 4: 2D local maxima detection\n",
    "    neighborhood_size = 20\n",
    "    local_max = maximum_filter(S_smooth, size=neighborhood_size) == S_smooth\n",
    "\n",
    "    # Step 5: Apply a threshold to keep only strong peaks\n",
    "    threshold = np.percentile(S_smooth[local_max], 95)  # keep top 5%\n",
    "    peak_mask = local_max & (S_smooth >= threshold)\n",
    "\n",
    "    # Step 6: Get peak coordinates (freq_bin, time_bin)\n",
    "    peak_indices = np.argwhere(peak_mask)\n",
    "\n",
    "    # Step 7: Convert to time (sec) and frequency (Hz)\n",
    "    peak_freqs = peak_indices[:, 0] * (sr / n_fft)\n",
    "    peak_times = peak_indices[:, 1] * (hop_length / sr)\n",
    "\n",
    "    # Combine for (time, freq) tuples\n",
    "    constellation_map = list(zip(peak_times, peak_freqs))\n",
    "\n",
    "    #get fingerprints\n",
    "    fingerprint = generate_hashes(constellation_map)\n",
    "    score={\n",
    "    }\n",
    "    for h,t_query in fingerprint:\n",
    "        if h in hashIndex:\n",
    "            for (song,t_db) in hashIndex[h]:\n",
    "                delta= round(t_db-t_query, 2)\n",
    "                score[(song,delta)] = score.get((song,delta), 0) + 1\n",
    "    best_match = None\n",
    "    best_score = 0\n",
    "\n",
    "    for (song, delta), count in score.items():\n",
    "        if best_match is None or count > best_score:\n",
    "            best_match = song\n",
    "            best_score = count\n",
    "    print(score)\n",
    "    if best_match is not None and best_match in songsMeta:  # You can tweak this threshold\n",
    "        print(\"Match found!\")\n",
    "        print(songsMeta[best_match])\n",
    "        return songsMeta[best_match]\n",
    "    else:\n",
    "        print(\"No matching song found in the database.\")\n",
    "        return None\n"
   ]
  },
  {
   "cell_type": "code",
   "execution_count": null,
   "id": "f8ed8a19",
   "metadata": {},
   "outputs": [],
   "source": [
    "    \n"
   ]
  },
  {
   "cell_type": "code",
   "execution_count": 45,
   "id": "746f7a75",
   "metadata": {},
   "outputs": [
    {
     "name": "stdout",
     "output_type": "stream",
     "text": [
      "{}\n",
      "No matching song found in the database.\n"
     ]
    }
   ],
   "source": [
    "SearchSong(\"Testsongs\\\\RAWAL x Bharg x Encore ABJ - MAGAN (mp3cut.net) (1).mp3\")"
   ]
  },
  {
   "cell_type": "code",
   "execution_count": null,
   "id": "88c65972",
   "metadata": {},
   "outputs": [
    {
     "name": "stdout",
     "output_type": "stream",
     "text": [
      "[youtube:tab] Extracting URL: https://www.youtube.com/playlist?list=PLwi5bnlaFJvgc7x1MPvV3h2KyU5vlVQKg\n",
      "[youtube:tab] PLwi5bnlaFJvgc7x1MPvV3h2KyU5vlVQKg: Downloading webpage\n"
     ]
    },
    {
     "name": "stderr",
     "output_type": "stream",
     "text": [
      "WARNING: [youtube:tab] YouTube said: INFO - 1 unavailable video is hidden\n"
     ]
    },
    {
     "name": "stdout",
     "output_type": "stream",
     "text": [
      "[youtube:tab] PLwi5bnlaFJvgc7x1MPvV3h2KyU5vlVQKg: Redownloading playlist API JSON with unavailable videos\n",
      "[download] Downloading playlist: idk\n",
      "[youtube:tab] PLwi5bnlaFJvgc7x1MPvV3h2KyU5vlVQKg page 1: Downloading API JSON\n",
      "[youtube:tab] Playlist idk: Downloading 5 items of 5\n",
      "[download] Downloading item 1 of 5\n",
      "[youtube] Extracting URL: https://www.youtube.com/watch?v=p0kKahGOKe8\n",
      "[youtube] p0kKahGOKe8: Downloading webpage\n",
      "[youtube] p0kKahGOKe8: Downloading tv client config\n",
      "[youtube] p0kKahGOKe8: Downloading tv player API JSON\n",
      "[youtube] p0kKahGOKe8: Downloading ios player API JSON\n",
      "[youtube] p0kKahGOKe8: Downloading m3u8 information\n",
      "[info] p0kKahGOKe8: Downloading 1 format(s): 251\n",
      "[download] Destination: songs\\RAWAL x Bharg x Encore ABJ - MAGAN.webm\n",
      "[download] 100% of    3.38MiB in 00:00:03 at 977.07KiB/s \n",
      "[ExtractAudio] Destination: songs\\RAWAL x Bharg x Encore ABJ - MAGAN.mp3\n",
      "Deleting original file songs\\RAWAL x Bharg x Encore ABJ - MAGAN.webm (pass -k to keep)\n",
      "[download] Downloading item 2 of 5\n",
      "[youtube] Extracting URL: https://www.youtube.com/watch?v=2k7E3u36gt4\n",
      "[youtube] 2k7E3u36gt4: Downloading webpage\n",
      "[youtube] 2k7E3u36gt4: Downloading tv client config\n",
      "[youtube] 2k7E3u36gt4: Downloading tv player API JSON\n",
      "[youtube] 2k7E3u36gt4: Downloading ios player API JSON\n",
      "[youtube] 2k7E3u36gt4: Downloading player e12fbea4-main\n"
     ]
    },
    {
     "name": "stderr",
     "output_type": "stream",
     "text": [
      "WARNING: [youtube] 2k7E3u36gt4: Signature extraction failed: Some formats may be missing\n",
      "         player = https://www.youtube.com/s/player/e12fbea4/player_ias.vflset/en_US/base.js\n",
      "         Please report this issue on  https://github.com/yt-dlp/yt-dlp/issues?q= , filling out the appropriate issue template. Confirm you are on the latest version using  yt-dlp -U\n",
      "WARNING: [youtube] 2k7E3u36gt4: Some web client https formats have been skipped as they are missing a url. YouTube is forcing SABR streaming for this client. See  https://github.com/yt-dlp/yt-dlp/issues/12482  for more details\n"
     ]
    },
    {
     "name": "stdout",
     "output_type": "stream",
     "text": [
      "[youtube] 2k7E3u36gt4: Downloading m3u8 information\n",
      "[info] Testing format 234\n",
      "[info] 2k7E3u36gt4: Downloading 1 format(s): 234\n",
      "[hlsnative] Downloading m3u8 manifest\n",
      "[hlsnative] Total fragments: 46\n",
      "[download] Destination: songs\\Khoya Sitara - Dizlaw (Official music video) ｜ Azadi Records.mp4\n",
      "[download] 100% of    3.88MiB in 00:00:11 at 354.20KiB/s                \n",
      "[ExtractAudio] Destination: songs\\Khoya Sitara - Dizlaw (Official music video) ｜ Azadi Records.mp3\n",
      "Deleting original file songs\\Khoya Sitara - Dizlaw (Official music video) ｜ Azadi Records.mp4 (pass -k to keep)\n",
      "[download] Downloading item 3 of 5\n",
      "[youtube] Extracting URL: https://www.youtube.com/watch?v=6Iox2oVm1sI\n",
      "[youtube] 6Iox2oVm1sI: Downloading webpage\n",
      "[youtube] 6Iox2oVm1sI: Downloading tv client config\n",
      "[youtube] 6Iox2oVm1sI: Downloading tv player API JSON\n",
      "[youtube] 6Iox2oVm1sI: Downloading ios player API JSON\n"
     ]
    },
    {
     "name": "stderr",
     "output_type": "stream",
     "text": [
      "WARNING: [youtube] 6Iox2oVm1sI: Signature extraction failed: Some formats may be missing\n",
      "         player = https://www.youtube.com/s/player/e12fbea4/player_ias.vflset/en_US/base.js\n",
      "         Please report this issue on  https://github.com/yt-dlp/yt-dlp/issues?q= , filling out the appropriate issue template. Confirm you are on the latest version using  yt-dlp -U\n",
      "WARNING: [youtube] 6Iox2oVm1sI: Some web client https formats have been skipped as they are missing a url. YouTube is forcing SABR streaming for this client. See  https://github.com/yt-dlp/yt-dlp/issues/12482  for more details\n"
     ]
    },
    {
     "name": "stdout",
     "output_type": "stream",
     "text": [
      "[youtube] 6Iox2oVm1sI: Downloading m3u8 information\n",
      "[info] Testing format 234\n",
      "[info] 6Iox2oVm1sI: Downloading 1 format(s): 234\n",
      "[hlsnative] Downloading m3u8 manifest\n",
      "[hlsnative] Total fragments: 50\n",
      "[download] Destination: songs\\Bharg & @ChaarDiwaari  - Roshni ｜ Nikamma.mp4\n",
      "[download] 100% of    3.95MiB in 00:01:01 at 66.12KiB/s                  \n",
      "[ExtractAudio] Destination: songs\\Bharg & @ChaarDiwaari  - Roshni ｜ Nikamma.mp3\n",
      "Deleting original file songs\\Bharg & @ChaarDiwaari  - Roshni ｜ Nikamma.mp4 (pass -k to keep)\n",
      "[download] Downloading item 4 of 5\n",
      "[youtube] Extracting URL: https://www.youtube.com/watch?v=jj3AOSCEGp4\n",
      "[youtube] jj3AOSCEGp4: Downloading webpage\n",
      "[youtube] jj3AOSCEGp4: Downloading tv client config\n",
      "[youtube] jj3AOSCEGp4: Downloading tv player API JSON\n",
      "[youtube] jj3AOSCEGp4: Downloading ios player API JSON\n"
     ]
    },
    {
     "name": "stderr",
     "output_type": "stream",
     "text": [
      "WARNING: [youtube] jj3AOSCEGp4: Signature extraction failed: Some formats may be missing\n",
      "         player = https://www.youtube.com/s/player/e12fbea4/player_ias.vflset/en_US/base.js\n",
      "         Please report this issue on  https://github.com/yt-dlp/yt-dlp/issues?q= , filling out the appropriate issue template. Confirm you are on the latest version using  yt-dlp -U\n",
      "WARNING: [youtube] jj3AOSCEGp4: Some web client https formats have been skipped as they are missing a url. YouTube is forcing SABR streaming for this client. See  https://github.com/yt-dlp/yt-dlp/issues/12482  for more details\n"
     ]
    },
    {
     "name": "stdout",
     "output_type": "stream",
     "text": [
      "[youtube] jj3AOSCEGp4: Downloading m3u8 information\n",
      "[info] Testing format 234\n",
      "[info] jj3AOSCEGp4: Downloading 1 format(s): 234\n",
      "[hlsnative] Downloading m3u8 manifest\n",
      "[hlsnative] Total fragments: 41\n",
      "[download] Destination: songs\\Naksha.mp4\n",
      "[download] 100% of    3.21MiB in 00:00:08 at 402.15KiB/s                \n",
      "[ExtractAudio] Destination: songs\\Naksha.mp3\n",
      "Deleting original file songs\\Naksha.mp4 (pass -k to keep)\n",
      "[download] Downloading item 5 of 5\n",
      "[youtube] Extracting URL: https://www.youtube.com/watch?v=6pQcD3xKAtA\n",
      "[youtube] 6pQcD3xKAtA: Downloading webpage\n",
      "[youtube] 6pQcD3xKAtA: Downloading tv client config\n",
      "[youtube] 6pQcD3xKAtA: Downloading tv player API JSON\n",
      "[youtube] 6pQcD3xKAtA: Downloading ios player API JSON\n"
     ]
    },
    {
     "name": "stderr",
     "output_type": "stream",
     "text": [
      "ERROR: [youtube] 6pQcD3xKAtA: Video unavailable. This video is not available\n"
     ]
    },
    {
     "name": "stdout",
     "output_type": "stream",
     "text": [
      "[download] Finished downloading playlist: idk\n"
     ]
    }
   ],
   "source": []
  },
  {
   "cell_type": "code",
   "execution_count": null,
   "id": "dc0c305f",
   "metadata": {},
   "outputs": [
    {
     "name": "stdout",
     "output_type": "stream",
     "text": [
      "[youtube:tab] Extracting URL: https://youtube.com/playlist?list=PLwi5bnlaFJvjbnvBu4aLwuGkQH4F45nUO\n",
      "[youtube:tab] PLwi5bnlaFJvjbnvBu4aLwuGkQH4F45nUO: Downloading webpage\n"
     ]
    },
    {
     "name": "stderr",
     "output_type": "stream",
     "text": [
      "WARNING: [youtube:tab] YouTube said: INFO - 2 unavailable videos are hidden\n"
     ]
    },
    {
     "name": "stdout",
     "output_type": "stream",
     "text": [
      "[youtube:tab] PLwi5bnlaFJvjbnvBu4aLwuGkQH4F45nUO: Redownloading playlist API JSON with unavailable videos\n",
      "[download] Downloading playlist: Yellow\n",
      "[youtube:tab] PLwi5bnlaFJvjbnvBu4aLwuGkQH4F45nUO page 1: Downloading API JSON\n",
      "[youtube:tab] Playlist Yellow: Downloading 23 items of 23\n",
      "[download] Downloading item 1 of 23\n",
      "[youtube] Extracting URL: https://www.youtube.com/watch?v=jtycySTCRWI\n",
      "[youtube] jtycySTCRWI: Downloading webpage\n",
      "[youtube] jtycySTCRWI: Downloading tv client config\n",
      "[youtube] jtycySTCRWI: Downloading tv player API JSON\n",
      "[youtube] jtycySTCRWI: Downloading ios player API JSON\n",
      "[youtube] jtycySTCRWI: Downloading player e12fbea4-main\n"
     ]
    },
    {
     "name": "stderr",
     "output_type": "stream",
     "text": [
      "WARNING: [youtube] jtycySTCRWI: Signature extraction failed: Some formats may be missing\n",
      "         player = https://www.youtube.com/s/player/e12fbea4/player_ias.vflset/en_US/base.js\n",
      "         Please report this issue on  https://github.com/yt-dlp/yt-dlp/issues?q= , filling out the appropriate issue template. Confirm you are on the latest version using  yt-dlp -U\n",
      "WARNING: [youtube] jtycySTCRWI: Some web client https formats have been skipped as they are missing a url. YouTube is forcing SABR streaming for this client. See  https://github.com/yt-dlp/yt-dlp/issues/12482  for more details\n"
     ]
    },
    {
     "name": "stdout",
     "output_type": "stream",
     "text": [
      "[youtube] jtycySTCRWI: Downloading m3u8 information\n",
      "[info] Testing format 234\n",
      "[info] jtycySTCRWI: Downloading 1 format(s): 234\n",
      "[hlsnative] Downloading m3u8 manifest\n",
      "[hlsnative] Total fragments: 12\n",
      "[download] Destination: jtycySTCRWI.mp4\n",
      "[download] 100% of  962.31KiB in 00:00:01 at 525.75KiB/s                \n"
     ]
    },
    {
     "name": "stderr",
     "output_type": "stream",
     "text": [
      "ERROR: WARNING: unable to obtain file audio codec with ffprobe\n"
     ]
    },
    {
     "name": "stdout",
     "output_type": "stream",
     "text": [
      "[download] Downloading item 2 of 23\n",
      "[youtube] Extracting URL: https://www.youtube.com/watch?v=_kOzFMR9Hys\n",
      "[youtube] _kOzFMR9Hys: Downloading webpage\n",
      "[youtube] _kOzFMR9Hys: Downloading tv client config\n",
      "[youtube] _kOzFMR9Hys: Downloading tv player API JSON\n",
      "[youtube] _kOzFMR9Hys: Downloading ios player API JSON\n"
     ]
    },
    {
     "name": "stderr",
     "output_type": "stream",
     "text": [
      "WARNING: [youtube] _kOzFMR9Hys: Signature extraction failed: Some formats may be missing\n",
      "         player = https://www.youtube.com/s/player/e12fbea4/player_ias.vflset/en_US/base.js\n",
      "         Please report this issue on  https://github.com/yt-dlp/yt-dlp/issues?q= , filling out the appropriate issue template. Confirm you are on the latest version using  yt-dlp -U\n",
      "WARNING: [youtube] _kOzFMR9Hys: Some web client https formats have been skipped as they are missing a url. YouTube is forcing SABR streaming for this client. See  https://github.com/yt-dlp/yt-dlp/issues/12482  for more details\n"
     ]
    },
    {
     "name": "stdout",
     "output_type": "stream",
     "text": [
      "[youtube] _kOzFMR9Hys: Downloading m3u8 information\n",
      "[info] Testing format 234\n",
      "[info] _kOzFMR9Hys: Downloading 1 format(s): 234\n",
      "[hlsnative] Downloading m3u8 manifest\n",
      "[hlsnative] Total fragments: 55\n",
      "[download] Destination: _kOzFMR9Hys.mp4\n",
      "[download] 100% of    4.54MiB in 00:00:08 at 541.11KiB/s                \n"
     ]
    },
    {
     "name": "stderr",
     "output_type": "stream",
     "text": [
      "ERROR: WARNING: unable to obtain file audio codec with ffprobe\n"
     ]
    },
    {
     "name": "stdout",
     "output_type": "stream",
     "text": [
      "[download] Downloading item 3 of 23\n",
      "[youtube] Extracting URL: https://www.youtube.com/watch?v=ThAAz2HJKAQ\n",
      "[youtube] ThAAz2HJKAQ: Downloading webpage\n",
      "[youtube] ThAAz2HJKAQ: Downloading tv client config\n",
      "[youtube] ThAAz2HJKAQ: Downloading tv player API JSON\n",
      "[youtube] ThAAz2HJKAQ: Downloading ios player API JSON\n"
     ]
    },
    {
     "name": "stderr",
     "output_type": "stream",
     "text": [
      "WARNING: [youtube] ThAAz2HJKAQ: Signature extraction failed: Some formats may be missing\n",
      "         player = https://www.youtube.com/s/player/e12fbea4/player_ias.vflset/en_US/base.js\n",
      "         Please report this issue on  https://github.com/yt-dlp/yt-dlp/issues?q= , filling out the appropriate issue template. Confirm you are on the latest version using  yt-dlp -U\n",
      "WARNING: [youtube] ThAAz2HJKAQ: Some web client https formats have been skipped as they are missing a url. YouTube is forcing SABR streaming for this client. See  https://github.com/yt-dlp/yt-dlp/issues/12482  for more details\n"
     ]
    },
    {
     "name": "stdout",
     "output_type": "stream",
     "text": [
      "[youtube] ThAAz2HJKAQ: Downloading m3u8 information\n",
      "[info] Testing format 234\n",
      "[info] ThAAz2HJKAQ: Downloading 1 format(s): 234\n",
      "[hlsnative] Downloading m3u8 manifest\n",
      "[hlsnative] Total fragments: 26\n",
      "[download] Destination: ThAAz2HJKAQ.mp4\n",
      "[download] 100% of    2.76MiB in 00:00:04 at 680.33KiB/s                \n"
     ]
    },
    {
     "name": "stderr",
     "output_type": "stream",
     "text": [
      "ERROR: WARNING: unable to obtain file audio codec with ffprobe\n"
     ]
    },
    {
     "name": "stdout",
     "output_type": "stream",
     "text": [
      "[download] Downloading item 4 of 23\n",
      "[youtube] Extracting URL: https://www.youtube.com/watch?v=C8nxICQI5Xo\n",
      "[youtube] C8nxICQI5Xo: Downloading webpage\n",
      "[youtube] C8nxICQI5Xo: Downloading tv client config\n",
      "[youtube] C8nxICQI5Xo: Downloading tv player API JSON\n",
      "[youtube] C8nxICQI5Xo: Downloading ios player API JSON\n"
     ]
    },
    {
     "name": "stderr",
     "output_type": "stream",
     "text": [
      "ERROR: [youtube] C8nxICQI5Xo: Video unavailable. This video is not available\n"
     ]
    },
    {
     "name": "stdout",
     "output_type": "stream",
     "text": [
      "[download] Downloading item 5 of 23\n",
      "[youtube] Extracting URL: https://www.youtube.com/watch?v=zvCBSSwgtg4\n",
      "[youtube] zvCBSSwgtg4: Downloading webpage\n",
      "[youtube] zvCBSSwgtg4: Downloading tv client config\n",
      "[youtube] zvCBSSwgtg4: Downloading tv player API JSON\n",
      "[youtube] zvCBSSwgtg4: Downloading ios player API JSON\n"
     ]
    },
    {
     "name": "stderr",
     "output_type": "stream",
     "text": [
      "WARNING: [youtube] zvCBSSwgtg4: Signature extraction failed: Some formats may be missing\n",
      "         player = https://www.youtube.com/s/player/e12fbea4/player_ias.vflset/en_US/base.js\n",
      "         Please report this issue on  https://github.com/yt-dlp/yt-dlp/issues?q= , filling out the appropriate issue template. Confirm you are on the latest version using  yt-dlp -U\n",
      "WARNING: [youtube] zvCBSSwgtg4: Some web client https formats have been skipped as they are missing a url. YouTube is forcing SABR streaming for this client. See  https://github.com/yt-dlp/yt-dlp/issues/12482  for more details\n"
     ]
    },
    {
     "name": "stdout",
     "output_type": "stream",
     "text": [
      "[youtube] zvCBSSwgtg4: Downloading m3u8 information\n",
      "[info] Testing format 234\n",
      "[info] zvCBSSwgtg4: Downloading 1 format(s): 234\n",
      "[hlsnative] Downloading m3u8 manifest\n",
      "[hlsnative] Total fragments: 33\n",
      "[download] Destination: zvCBSSwgtg4.mp4\n",
      "[download] 100% of    2.51MiB in 00:00:09 at 278.13KiB/s                \n"
     ]
    },
    {
     "name": "stderr",
     "output_type": "stream",
     "text": [
      "ERROR: WARNING: unable to obtain file audio codec with ffprobe\n"
     ]
    },
    {
     "name": "stdout",
     "output_type": "stream",
     "text": [
      "[download] Downloading item 6 of 23\n",
      "[youtube] Extracting URL: https://www.youtube.com/watch?v=5e4INH1yr9c\n",
      "[youtube] 5e4INH1yr9c: Downloading webpage\n",
      "[youtube] 5e4INH1yr9c: Downloading tv client config\n",
      "[youtube] 5e4INH1yr9c: Downloading tv player API JSON\n",
      "[youtube] 5e4INH1yr9c: Downloading ios player API JSON\n"
     ]
    },
    {
     "name": "stderr",
     "output_type": "stream",
     "text": [
      "WARNING: [youtube] 5e4INH1yr9c: Signature extraction failed: Some formats may be missing\n",
      "         player = https://www.youtube.com/s/player/e12fbea4/player_ias.vflset/en_US/base.js\n",
      "         Please report this issue on  https://github.com/yt-dlp/yt-dlp/issues?q= , filling out the appropriate issue template. Confirm you are on the latest version using  yt-dlp -U\n",
      "WARNING: [youtube] 5e4INH1yr9c: Some web client https formats have been skipped as they are missing a url. YouTube is forcing SABR streaming for this client. See  https://github.com/yt-dlp/yt-dlp/issues/12482  for more details\n"
     ]
    },
    {
     "name": "stdout",
     "output_type": "stream",
     "text": [
      "[youtube] 5e4INH1yr9c: Downloading m3u8 information\n",
      "[info] Testing format 234\n",
      "[info] 5e4INH1yr9c: Downloading 1 format(s): 234\n",
      "[hlsnative] Downloading m3u8 manifest\n",
      "[hlsnative] Total fragments: 38\n",
      "[download] Destination: 5e4INH1yr9c.mp4\n",
      "[download] 100% of    3.25MiB in 00:00:08 at 371.21KiB/s                \n"
     ]
    },
    {
     "name": "stderr",
     "output_type": "stream",
     "text": [
      "ERROR: WARNING: unable to obtain file audio codec with ffprobe\n"
     ]
    },
    {
     "name": "stdout",
     "output_type": "stream",
     "text": [
      "[download] Downloading item 7 of 23\n",
      "[youtube] Extracting URL: https://www.youtube.com/watch?v=hwZNL7QVJjE\n",
      "[youtube] hwZNL7QVJjE: Downloading webpage\n",
      "[youtube] hwZNL7QVJjE: Downloading tv client config\n",
      "[youtube] hwZNL7QVJjE: Downloading tv player API JSON\n",
      "[youtube] hwZNL7QVJjE: Downloading ios player API JSON\n"
     ]
    },
    {
     "name": "stderr",
     "output_type": "stream",
     "text": [
      "WARNING: [youtube] hwZNL7QVJjE: Signature extraction failed: Some formats may be missing\n",
      "         player = https://www.youtube.com/s/player/e12fbea4/player_ias.vflset/en_US/base.js\n",
      "         Please report this issue on  https://github.com/yt-dlp/yt-dlp/issues?q= , filling out the appropriate issue template. Confirm you are on the latest version using  yt-dlp -U\n",
      "WARNING: [youtube] hwZNL7QVJjE: Some web client https formats have been skipped as they are missing a url. YouTube is forcing SABR streaming for this client. See  https://github.com/yt-dlp/yt-dlp/issues/12482  for more details\n"
     ]
    },
    {
     "name": "stdout",
     "output_type": "stream",
     "text": [
      "[youtube] hwZNL7QVJjE: Downloading m3u8 information\n",
      "[info] Testing format 234\n",
      "[info] hwZNL7QVJjE: Downloading 1 format(s): 234\n",
      "[hlsnative] Downloading m3u8 manifest\n",
      "[hlsnative] Total fragments: 26\n",
      "[download] Destination: hwZNL7QVJjE.mp4\n",
      "[download] 100% of    2.76MiB in 00:00:38 at 74.09KiB/s                  \n"
     ]
    },
    {
     "name": "stderr",
     "output_type": "stream",
     "text": [
      "ERROR: WARNING: unable to obtain file audio codec with ffprobe\n"
     ]
    },
    {
     "name": "stdout",
     "output_type": "stream",
     "text": [
      "[download] Downloading item 8 of 23\n",
      "[youtube] Extracting URL: https://www.youtube.com/watch?v=knIiRy5aC2A\n",
      "[youtube] knIiRy5aC2A: Downloading webpage\n",
      "[youtube] knIiRy5aC2A: Downloading tv client config\n",
      "[youtube] knIiRy5aC2A: Downloading tv player API JSON\n",
      "[youtube] knIiRy5aC2A: Downloading ios player API JSON\n"
     ]
    },
    {
     "name": "stderr",
     "output_type": "stream",
     "text": [
      "WARNING: [youtube] knIiRy5aC2A: Signature extraction failed: Some formats may be missing\n",
      "         player = https://www.youtube.com/s/player/e12fbea4/player_ias.vflset/en_US/base.js\n",
      "         Please report this issue on  https://github.com/yt-dlp/yt-dlp/issues?q= , filling out the appropriate issue template. Confirm you are on the latest version using  yt-dlp -U\n",
      "WARNING: [youtube] knIiRy5aC2A: Some web client https formats have been skipped as they are missing a url. YouTube is forcing SABR streaming for this client. See  https://github.com/yt-dlp/yt-dlp/issues/12482  for more details\n"
     ]
    },
    {
     "name": "stdout",
     "output_type": "stream",
     "text": [
      "[youtube] knIiRy5aC2A: Downloading m3u8 information\n",
      "[info] Testing format 234\n",
      "[info] knIiRy5aC2A: Downloading 1 format(s): 234\n",
      "[hlsnative] Downloading m3u8 manifest\n",
      "[hlsnative] Total fragments: 52\n",
      "[download] Destination: knIiRy5aC2A.mp4\n",
      "[download] 100% of    4.53MiB in 00:00:10 at 432.44KiB/s                \n"
     ]
    },
    {
     "name": "stderr",
     "output_type": "stream",
     "text": [
      "ERROR: WARNING: unable to obtain file audio codec with ffprobe\n"
     ]
    },
    {
     "name": "stdout",
     "output_type": "stream",
     "text": [
      "[download] Downloading item 9 of 23\n",
      "[youtube] Extracting URL: https://www.youtube.com/watch?v=u5CVsCnxyXg\n",
      "[youtube] u5CVsCnxyXg: Downloading webpage\n",
      "[youtube] u5CVsCnxyXg: Downloading tv client config\n",
      "[youtube] u5CVsCnxyXg: Downloading tv player API JSON\n",
      "[youtube] u5CVsCnxyXg: Downloading ios player API JSON\n"
     ]
    },
    {
     "name": "stderr",
     "output_type": "stream",
     "text": [
      "WARNING: [youtube] u5CVsCnxyXg: Signature extraction failed: Some formats may be missing\n",
      "         player = https://www.youtube.com/s/player/e12fbea4/player_ias.vflset/en_US/base.js\n",
      "         Please report this issue on  https://github.com/yt-dlp/yt-dlp/issues?q= , filling out the appropriate issue template. Confirm you are on the latest version using  yt-dlp -U\n",
      "WARNING: [youtube] u5CVsCnxyXg: Some web client https formats have been skipped as they are missing a url. YouTube is forcing SABR streaming for this client. See  https://github.com/yt-dlp/yt-dlp/issues/12482  for more details\n"
     ]
    },
    {
     "name": "stdout",
     "output_type": "stream",
     "text": [
      "[youtube] u5CVsCnxyXg: Downloading m3u8 information\n",
      "[info] Testing format 234\n",
      "[info] u5CVsCnxyXg: Downloading 1 format(s): 234\n",
      "[hlsnative] Downloading m3u8 manifest\n",
      "[hlsnative] Total fragments: 40\n",
      "[download] Destination: u5CVsCnxyXg.mp4\n",
      "[download] 100% of    3.53MiB in 00:00:06 at 583.29KiB/s                \n"
     ]
    },
    {
     "name": "stderr",
     "output_type": "stream",
     "text": [
      "ERROR: WARNING: unable to obtain file audio codec with ffprobe\n"
     ]
    },
    {
     "name": "stdout",
     "output_type": "stream",
     "text": [
      "[download] Downloading item 10 of 23\n",
      "[youtube] Extracting URL: https://www.youtube.com/watch?v=zaROawBa7Q0\n",
      "[youtube] zaROawBa7Q0: Downloading webpage\n",
      "[youtube] zaROawBa7Q0: Downloading tv client config\n",
      "[youtube] zaROawBa7Q0: Downloading tv player API JSON\n",
      "[youtube] zaROawBa7Q0: Downloading ios player API JSON\n"
     ]
    },
    {
     "name": "stderr",
     "output_type": "stream",
     "text": [
      "WARNING: [youtube] zaROawBa7Q0: Signature extraction failed: Some formats may be missing\n",
      "         player = https://www.youtube.com/s/player/e12fbea4/player_ias.vflset/en_US/base.js\n",
      "         Please report this issue on  https://github.com/yt-dlp/yt-dlp/issues?q= , filling out the appropriate issue template. Confirm you are on the latest version using  yt-dlp -U\n",
      "WARNING: [youtube] zaROawBa7Q0: Some web client https formats have been skipped as they are missing a url. YouTube is forcing SABR streaming for this client. See  https://github.com/yt-dlp/yt-dlp/issues/12482  for more details\n"
     ]
    },
    {
     "name": "stdout",
     "output_type": "stream",
     "text": [
      "[youtube] zaROawBa7Q0: Downloading m3u8 information\n",
      "[info] Testing format 234\n",
      "[info] zaROawBa7Q0: Downloading 1 format(s): 234\n",
      "[hlsnative] Downloading m3u8 manifest\n",
      "[hlsnative] Total fragments: 28\n",
      "[download] Destination: zaROawBa7Q0.mp4\n",
      "[download] 100% of    2.29MiB in 00:00:04 at 481.41KiB/s                \n"
     ]
    },
    {
     "name": "stderr",
     "output_type": "stream",
     "text": [
      "ERROR: WARNING: unable to obtain file audio codec with ffprobe\n"
     ]
    },
    {
     "name": "stdout",
     "output_type": "stream",
     "text": [
      "[download] Downloading item 11 of 23\n",
      "[youtube] Extracting URL: https://www.youtube.com/watch?v=u6lihZAcy4s\n",
      "[youtube] u6lihZAcy4s: Downloading webpage\n",
      "[youtube] u6lihZAcy4s: Downloading tv client config\n",
      "[youtube] u6lihZAcy4s: Downloading tv player API JSON\n",
      "[youtube] u6lihZAcy4s: Downloading ios player API JSON\n"
     ]
    },
    {
     "name": "stderr",
     "output_type": "stream",
     "text": [
      "WARNING: [youtube] u6lihZAcy4s: Signature extraction failed: Some formats may be missing\n",
      "         player = https://www.youtube.com/s/player/e12fbea4/player_ias.vflset/en_US/base.js\n",
      "         Please report this issue on  https://github.com/yt-dlp/yt-dlp/issues?q= , filling out the appropriate issue template. Confirm you are on the latest version using  yt-dlp -U\n",
      "WARNING: [youtube] u6lihZAcy4s: Some web client https formats have been skipped as they are missing a url. YouTube is forcing SABR streaming for this client. See  https://github.com/yt-dlp/yt-dlp/issues/12482  for more details\n"
     ]
    },
    {
     "name": "stdout",
     "output_type": "stream",
     "text": [
      "[youtube] u6lihZAcy4s: Downloading m3u8 information\n",
      "[info] Testing format 234\n",
      "[info] u6lihZAcy4s: Downloading 1 format(s): 234\n",
      "[hlsnative] Downloading m3u8 manifest\n",
      "[hlsnative] Total fragments: 31\n",
      "[download] Destination: u6lihZAcy4s.mp4\n",
      "[download] 100% of    3.37MiB in 00:00:12 at 281.47KiB/s                \n"
     ]
    },
    {
     "name": "stderr",
     "output_type": "stream",
     "text": [
      "ERROR: WARNING: unable to obtain file audio codec with ffprobe\n"
     ]
    },
    {
     "name": "stdout",
     "output_type": "stream",
     "text": [
      "[download] Downloading item 12 of 23\n",
      "[youtube] Extracting URL: https://www.youtube.com/watch?v=YaXBIv_2t2g\n",
      "[youtube] YaXBIv_2t2g: Downloading webpage\n",
      "[youtube] YaXBIv_2t2g: Downloading tv client config\n",
      "[youtube] YaXBIv_2t2g: Downloading tv player API JSON\n",
      "[youtube] YaXBIv_2t2g: Downloading ios player API JSON\n",
      "[youtube] YaXBIv_2t2g: Downloading m3u8 information\n",
      "[info] YaXBIv_2t2g: Downloading 1 format(s): 251\n",
      "[download] Destination: YaXBIv_2t2g.webm\n",
      "[download] 100% of    2.04MiB in 00:00:00 at 2.32MiB/s   \n"
     ]
    },
    {
     "name": "stderr",
     "output_type": "stream",
     "text": [
      "ERROR: WARNING: unable to obtain file audio codec with ffprobe\n"
     ]
    },
    {
     "name": "stdout",
     "output_type": "stream",
     "text": [
      "[download] Downloading item 13 of 23\n",
      "[youtube] Extracting URL: https://www.youtube.com/watch?v=U2WDdccgaDY\n",
      "[youtube] U2WDdccgaDY: Downloading webpage\n",
      "[youtube] U2WDdccgaDY: Downloading tv client config\n",
      "[youtube] U2WDdccgaDY: Downloading tv player API JSON\n",
      "[youtube] U2WDdccgaDY: Downloading ios player API JSON\n"
     ]
    },
    {
     "name": "stderr",
     "output_type": "stream",
     "text": [
      "WARNING: [youtube] U2WDdccgaDY: Signature extraction failed: Some formats may be missing\n",
      "         player = https://www.youtube.com/s/player/e12fbea4/player_ias.vflset/en_US/base.js\n",
      "         Please report this issue on  https://github.com/yt-dlp/yt-dlp/issues?q= , filling out the appropriate issue template. Confirm you are on the latest version using  yt-dlp -U\n",
      "WARNING: [youtube] U2WDdccgaDY: Some web client https formats have been skipped as they are missing a url. YouTube is forcing SABR streaming for this client. See  https://github.com/yt-dlp/yt-dlp/issues/12482  for more details\n"
     ]
    },
    {
     "name": "stdout",
     "output_type": "stream",
     "text": [
      "[youtube] U2WDdccgaDY: Downloading m3u8 information\n",
      "[info] Testing format 234\n",
      "[info] U2WDdccgaDY: Downloading 1 format(s): 234\n",
      "[hlsnative] Downloading m3u8 manifest\n",
      "[hlsnative] Total fragments: 32\n",
      "[download] Destination: U2WDdccgaDY.mp4\n",
      "[download] 100% of    2.41MiB in 00:00:12 at 193.01KiB/s                \n"
     ]
    },
    {
     "name": "stderr",
     "output_type": "stream",
     "text": [
      "ERROR: WARNING: unable to obtain file audio codec with ffprobe\n"
     ]
    },
    {
     "name": "stdout",
     "output_type": "stream",
     "text": [
      "[download] Downloading item 14 of 23\n",
      "[youtube] Extracting URL: https://www.youtube.com/watch?v=i96UO8-GFvw\n",
      "[youtube] i96UO8-GFvw: Downloading webpage\n",
      "[youtube] i96UO8-GFvw: Downloading tv client config\n",
      "[youtube] i96UO8-GFvw: Downloading tv player API JSON\n",
      "[youtube] i96UO8-GFvw: Downloading ios player API JSON\n"
     ]
    },
    {
     "name": "stderr",
     "output_type": "stream",
     "text": [
      "WARNING: [youtube] i96UO8-GFvw: Signature extraction failed: Some formats may be missing\n",
      "         player = https://www.youtube.com/s/player/e12fbea4/player_ias.vflset/en_US/base.js\n",
      "         Please report this issue on  https://github.com/yt-dlp/yt-dlp/issues?q= , filling out the appropriate issue template. Confirm you are on the latest version using  yt-dlp -U\n",
      "WARNING: [youtube] i96UO8-GFvw: Some web client https formats have been skipped as they are missing a url. YouTube is forcing SABR streaming for this client. See  https://github.com/yt-dlp/yt-dlp/issues/12482  for more details\n"
     ]
    },
    {
     "name": "stdout",
     "output_type": "stream",
     "text": [
      "[youtube] i96UO8-GFvw: Downloading m3u8 information\n",
      "[info] Testing format 234\n",
      "[info] i96UO8-GFvw: Downloading 1 format(s): 234\n",
      "[hlsnative] Downloading m3u8 manifest\n",
      "[hlsnative] Total fragments: 50\n",
      "[download] Destination: i96UO8-GFvw.mp4\n",
      "[download] 100% of    4.12MiB in 00:00:42 at 98.76KiB/s                 \n"
     ]
    },
    {
     "name": "stderr",
     "output_type": "stream",
     "text": [
      "ERROR: WARNING: unable to obtain file audio codec with ffprobe\n"
     ]
    },
    {
     "name": "stdout",
     "output_type": "stream",
     "text": [
      "[download] Downloading item 15 of 23\n",
      "[youtube] Extracting URL: https://www.youtube.com/watch?v=xy3AcmW0lrQ\n",
      "[youtube] xy3AcmW0lrQ: Downloading webpage\n",
      "[youtube] xy3AcmW0lrQ: Downloading tv client config\n",
      "[youtube] xy3AcmW0lrQ: Downloading tv player API JSON\n",
      "[youtube] xy3AcmW0lrQ: Downloading ios player API JSON\n"
     ]
    },
    {
     "name": "stderr",
     "output_type": "stream",
     "text": [
      "WARNING: [youtube] xy3AcmW0lrQ: Signature extraction failed: Some formats may be missing\n",
      "         player = https://www.youtube.com/s/player/e12fbea4/player_ias.vflset/en_US/base.js\n",
      "         Please report this issue on  https://github.com/yt-dlp/yt-dlp/issues?q= , filling out the appropriate issue template. Confirm you are on the latest version using  yt-dlp -U\n",
      "WARNING: [youtube] xy3AcmW0lrQ: Some web client https formats have been skipped as they are missing a url. YouTube is forcing SABR streaming for this client. See  https://github.com/yt-dlp/yt-dlp/issues/12482  for more details\n"
     ]
    },
    {
     "name": "stdout",
     "output_type": "stream",
     "text": [
      "[youtube] xy3AcmW0lrQ: Downloading m3u8 information\n",
      "[info] Testing format 234\n",
      "[info] xy3AcmW0lrQ: Downloading 1 format(s): 234\n",
      "[hlsnative] Downloading m3u8 manifest\n",
      "[hlsnative] Total fragments: 24\n",
      "[download] Destination: xy3AcmW0lrQ.mp4\n",
      "[download] 100% of    2.48MiB in 00:00:04 at 590.47KiB/s                \n"
     ]
    },
    {
     "name": "stderr",
     "output_type": "stream",
     "text": [
      "ERROR: WARNING: unable to obtain file audio codec with ffprobe\n"
     ]
    },
    {
     "name": "stdout",
     "output_type": "stream",
     "text": [
      "[download] Downloading item 16 of 23\n",
      "[youtube] Extracting URL: https://www.youtube.com/watch?v=gtxL331yPRQ\n",
      "[youtube] gtxL331yPRQ: Downloading webpage\n",
      "[youtube] gtxL331yPRQ: Downloading tv client config\n",
      "[youtube] gtxL331yPRQ: Downloading tv player API JSON\n",
      "[youtube] gtxL331yPRQ: Downloading ios player API JSON\n"
     ]
    },
    {
     "name": "stderr",
     "output_type": "stream",
     "text": [
      "WARNING: [youtube] gtxL331yPRQ: Signature extraction failed: Some formats may be missing\n",
      "         player = https://www.youtube.com/s/player/e12fbea4/player_ias.vflset/en_US/base.js\n",
      "         Please report this issue on  https://github.com/yt-dlp/yt-dlp/issues?q= , filling out the appropriate issue template. Confirm you are on the latest version using  yt-dlp -U\n",
      "WARNING: [youtube] gtxL331yPRQ: Some web client https formats have been skipped as they are missing a url. YouTube is forcing SABR streaming for this client. See  https://github.com/yt-dlp/yt-dlp/issues/12482  for more details\n"
     ]
    },
    {
     "name": "stdout",
     "output_type": "stream",
     "text": [
      "[youtube] gtxL331yPRQ: Downloading m3u8 information\n",
      "[info] Testing format 234\n",
      "[info] gtxL331yPRQ: Downloading 1 format(s): 234\n",
      "[hlsnative] Downloading m3u8 manifest\n",
      "[hlsnative] Total fragments: 44\n",
      "[download] Destination: gtxL331yPRQ.mp4\n",
      "[download] 100% of    3.52MiB in 00:00:28 at 127.18KiB/s                 \n"
     ]
    },
    {
     "name": "stderr",
     "output_type": "stream",
     "text": [
      "ERROR: WARNING: unable to obtain file audio codec with ffprobe\n"
     ]
    },
    {
     "name": "stdout",
     "output_type": "stream",
     "text": [
      "[download] Downloading item 17 of 23\n",
      "[youtube] Extracting URL: https://www.youtube.com/watch?v=sZZiHK68ZZo\n",
      "[youtube] sZZiHK68ZZo: Downloading webpage\n",
      "[youtube] sZZiHK68ZZo: Downloading tv client config\n",
      "[youtube] sZZiHK68ZZo: Downloading tv player API JSON\n",
      "[youtube] sZZiHK68ZZo: Downloading ios player API JSON\n"
     ]
    },
    {
     "name": "stderr",
     "output_type": "stream",
     "text": [
      "WARNING: [youtube] sZZiHK68ZZo: Signature extraction failed: Some formats may be missing\n",
      "         player = https://www.youtube.com/s/player/e12fbea4/player_ias.vflset/en_US/base.js\n",
      "         Please report this issue on  https://github.com/yt-dlp/yt-dlp/issues?q= , filling out the appropriate issue template. Confirm you are on the latest version using  yt-dlp -U\n",
      "WARNING: [youtube] sZZiHK68ZZo: Some web client https formats have been skipped as they are missing a url. YouTube is forcing SABR streaming for this client. See  https://github.com/yt-dlp/yt-dlp/issues/12482  for more details\n"
     ]
    },
    {
     "name": "stdout",
     "output_type": "stream",
     "text": [
      "[youtube] sZZiHK68ZZo: Downloading m3u8 information\n",
      "[info] Testing format 234\n",
      "[info] sZZiHK68ZZo: Downloading 1 format(s): 234\n",
      "[hlsnative] Downloading m3u8 manifest\n",
      "[hlsnative] Total fragments: 36\n",
      "[download] Destination: sZZiHK68ZZo.mp4\n",
      "[download] 100% of    3.07MiB in 00:00:08 at 392.08KiB/s                \n"
     ]
    },
    {
     "name": "stderr",
     "output_type": "stream",
     "text": [
      "ERROR: WARNING: unable to obtain file audio codec with ffprobe\n"
     ]
    },
    {
     "name": "stdout",
     "output_type": "stream",
     "text": [
      "[download] Downloading item 18 of 23\n",
      "[youtube] Extracting URL: https://www.youtube.com/watch?v=5idNBcKDtvA\n",
      "[youtube] 5idNBcKDtvA: Downloading webpage\n",
      "[youtube] 5idNBcKDtvA: Downloading tv client config\n",
      "[youtube] 5idNBcKDtvA: Downloading tv player API JSON\n",
      "[youtube] 5idNBcKDtvA: Downloading ios player API JSON\n"
     ]
    },
    {
     "name": "stderr",
     "output_type": "stream",
     "text": [
      "WARNING: [youtube] 5idNBcKDtvA: Signature extraction failed: Some formats may be missing\n",
      "         player = https://www.youtube.com/s/player/e12fbea4/player_ias.vflset/en_US/base.js\n",
      "         Please report this issue on  https://github.com/yt-dlp/yt-dlp/issues?q= , filling out the appropriate issue template. Confirm you are on the latest version using  yt-dlp -U\n",
      "WARNING: [youtube] 5idNBcKDtvA: Some web client https formats have been skipped as they are missing a url. YouTube is forcing SABR streaming for this client. See  https://github.com/yt-dlp/yt-dlp/issues/12482  for more details\n"
     ]
    },
    {
     "name": "stdout",
     "output_type": "stream",
     "text": [
      "[youtube] 5idNBcKDtvA: Downloading m3u8 information\n",
      "[info] Testing format 234\n",
      "[info] 5idNBcKDtvA: Downloading 1 format(s): 234\n",
      "[hlsnative] Downloading m3u8 manifest\n",
      "[hlsnative] Total fragments: 41\n",
      "[download] Destination: 5idNBcKDtvA.mp4\n",
      "[download] 100% of    3.22MiB in 00:01:41 at 32.34KiB/s                  \n"
     ]
    },
    {
     "name": "stderr",
     "output_type": "stream",
     "text": [
      "ERROR: WARNING: unable to obtain file audio codec with ffprobe\n"
     ]
    },
    {
     "name": "stdout",
     "output_type": "stream",
     "text": [
      "[download] Downloading item 19 of 23\n",
      "[youtube] Extracting URL: https://www.youtube.com/watch?v=081bLdQKX-Q\n",
      "[youtube] 081bLdQKX-Q: Downloading webpage\n",
      "[youtube] 081bLdQKX-Q: Downloading tv client config\n",
      "[youtube] 081bLdQKX-Q: Downloading tv player API JSON\n",
      "[youtube] 081bLdQKX-Q: Downloading ios player API JSON\n"
     ]
    },
    {
     "name": "stderr",
     "output_type": "stream",
     "text": [
      "WARNING: [youtube] 081bLdQKX-Q: Signature extraction failed: Some formats may be missing\n",
      "         player = https://www.youtube.com/s/player/e12fbea4/player_ias.vflset/en_US/base.js\n",
      "         Please report this issue on  https://github.com/yt-dlp/yt-dlp/issues?q= , filling out the appropriate issue template. Confirm you are on the latest version using  yt-dlp -U\n",
      "WARNING: [youtube] 081bLdQKX-Q: Some web client https formats have been skipped as they are missing a url. YouTube is forcing SABR streaming for this client. See  https://github.com/yt-dlp/yt-dlp/issues/12482  for more details\n"
     ]
    },
    {
     "name": "stdout",
     "output_type": "stream",
     "text": [
      "[youtube] 081bLdQKX-Q: Downloading m3u8 information\n",
      "[info] Testing format 234\n",
      "[info] 081bLdQKX-Q: Downloading 1 format(s): 234\n",
      "[hlsnative] Downloading m3u8 manifest\n",
      "[hlsnative] Total fragments: 64\n",
      "[download] Destination: 081bLdQKX-Q.mp4\n",
      "[download] 100% of    5.04MiB in 00:00:42 at 121.86KiB/s                 \n"
     ]
    },
    {
     "name": "stderr",
     "output_type": "stream",
     "text": [
      "ERROR: WARNING: unable to obtain file audio codec with ffprobe\n"
     ]
    },
    {
     "name": "stdout",
     "output_type": "stream",
     "text": [
      "[download] Downloading item 20 of 23\n",
      "[youtube] Extracting URL: https://www.youtube.com/watch?v=_51KXfwcPMs\n",
      "[youtube] _51KXfwcPMs: Downloading webpage\n",
      "[youtube] _51KXfwcPMs: Downloading tv client config\n",
      "[youtube] _51KXfwcPMs: Downloading tv player API JSON\n",
      "[youtube] _51KXfwcPMs: Downloading ios player API JSON\n"
     ]
    },
    {
     "name": "stderr",
     "output_type": "stream",
     "text": [
      "WARNING: [youtube] _51KXfwcPMs: Signature extraction failed: Some formats may be missing\n",
      "         player = https://www.youtube.com/s/player/e12fbea4/player_ias.vflset/en_US/base.js\n",
      "         Please report this issue on  https://github.com/yt-dlp/yt-dlp/issues?q= , filling out the appropriate issue template. Confirm you are on the latest version using  yt-dlp -U\n",
      "WARNING: [youtube] _51KXfwcPMs: Some web client https formats have been skipped as they are missing a url. YouTube is forcing SABR streaming for this client. See  https://github.com/yt-dlp/yt-dlp/issues/12482  for more details\n"
     ]
    },
    {
     "name": "stdout",
     "output_type": "stream",
     "text": [
      "[youtube] _51KXfwcPMs: Downloading m3u8 information\n",
      "[info] Testing format 234\n",
      "[info] _51KXfwcPMs: Downloading 1 format(s): 234\n",
      "[hlsnative] Downloading m3u8 manifest\n",
      "[hlsnative] Total fragments: 54\n",
      "[download] Destination: _51KXfwcPMs.mp4\n",
      "[download] 100% of    4.25MiB in 00:00:10 at 414.79KiB/s                \n"
     ]
    },
    {
     "name": "stderr",
     "output_type": "stream",
     "text": [
      "ERROR: WARNING: unable to obtain file audio codec with ffprobe\n"
     ]
    },
    {
     "name": "stdout",
     "output_type": "stream",
     "text": [
      "[download] Downloading item 21 of 23\n",
      "[youtube] Extracting URL: https://www.youtube.com/watch?v=6pQcD3xKAtA\n",
      "[youtube] 6pQcD3xKAtA: Downloading webpage\n",
      "[youtube] 6pQcD3xKAtA: Downloading tv client config\n",
      "[youtube] 6pQcD3xKAtA: Downloading tv player API JSON\n",
      "[youtube] 6pQcD3xKAtA: Downloading ios player API JSON\n"
     ]
    },
    {
     "name": "stderr",
     "output_type": "stream",
     "text": [
      "ERROR: [youtube] 6pQcD3xKAtA: Video unavailable. This video is not available\n"
     ]
    },
    {
     "name": "stdout",
     "output_type": "stream",
     "text": [
      "[download] Downloading item 22 of 23\n",
      "[youtube] Extracting URL: https://www.youtube.com/watch?v=CgK2iGxNy7M\n",
      "[youtube] CgK2iGxNy7M: Downloading webpage\n",
      "[youtube] CgK2iGxNy7M: Downloading tv client config\n",
      "[youtube] CgK2iGxNy7M: Downloading tv player API JSON\n",
      "[youtube] CgK2iGxNy7M: Downloading ios player API JSON\n"
     ]
    },
    {
     "name": "stderr",
     "output_type": "stream",
     "text": [
      "WARNING: [youtube] CgK2iGxNy7M: Signature extraction failed: Some formats may be missing\n",
      "         player = https://www.youtube.com/s/player/e12fbea4/player_ias.vflset/en_US/base.js\n",
      "         Please report this issue on  https://github.com/yt-dlp/yt-dlp/issues?q= , filling out the appropriate issue template. Confirm you are on the latest version using  yt-dlp -U\n",
      "WARNING: [youtube] CgK2iGxNy7M: Some web client https formats have been skipped as they are missing a url. YouTube is forcing SABR streaming for this client. See  https://github.com/yt-dlp/yt-dlp/issues/12482  for more details\n"
     ]
    },
    {
     "name": "stdout",
     "output_type": "stream",
     "text": [
      "[youtube] CgK2iGxNy7M: Downloading m3u8 information\n",
      "[info] Testing format 234\n",
      "[info] CgK2iGxNy7M: Downloading 1 format(s): 234\n",
      "[hlsnative] Downloading m3u8 manifest\n",
      "[hlsnative] Total fragments: 33\n",
      "[download] Destination: CgK2iGxNy7M.mp4\n",
      "[download] 100% of    2.64MiB in 00:00:33 at 81.39KiB/s                  \n"
     ]
    },
    {
     "name": "stderr",
     "output_type": "stream",
     "text": [
      "ERROR: WARNING: unable to obtain file audio codec with ffprobe\n"
     ]
    },
    {
     "name": "stdout",
     "output_type": "stream",
     "text": [
      "[download] Downloading item 23 of 23\n",
      "[youtube] Extracting URL: https://www.youtube.com/watch?v=Wh-AgS7PKdM\n",
      "[youtube] Wh-AgS7PKdM: Downloading webpage\n",
      "[youtube] Wh-AgS7PKdM: Downloading tv client config\n",
      "[youtube] Wh-AgS7PKdM: Downloading tv player API JSON\n",
      "[youtube] Wh-AgS7PKdM: Downloading ios player API JSON\n"
     ]
    },
    {
     "name": "stderr",
     "output_type": "stream",
     "text": [
      "WARNING: [youtube] Wh-AgS7PKdM: Signature extraction failed: Some formats may be missing\n",
      "         player = https://www.youtube.com/s/player/e12fbea4/player_ias.vflset/en_US/base.js\n",
      "         Please report this issue on  https://github.com/yt-dlp/yt-dlp/issues?q= , filling out the appropriate issue template. Confirm you are on the latest version using  yt-dlp -U\n",
      "WARNING: [youtube] Wh-AgS7PKdM: Some web client https formats have been skipped as they are missing a url. YouTube is forcing SABR streaming for this client. See  https://github.com/yt-dlp/yt-dlp/issues/12482  for more details\n"
     ]
    },
    {
     "name": "stdout",
     "output_type": "stream",
     "text": [
      "[youtube] Wh-AgS7PKdM: Downloading m3u8 information\n",
      "[info] Testing format 234\n",
      "[info] Wh-AgS7PKdM: Downloading 1 format(s): 234\n",
      "[hlsnative] Downloading m3u8 manifest\n",
      "[hlsnative] Total fragments: 41\n",
      "[download] Destination: Wh-AgS7PKdM.mp4\n",
      "[download] 100% of    3.39MiB in 00:00:17 at 199.00KiB/s                \n"
     ]
    },
    {
     "name": "stderr",
     "output_type": "stream",
     "text": [
      "ERROR: WARNING: unable to obtain file audio codec with ffprobe\n"
     ]
    },
    {
     "name": "stdout",
     "output_type": "stream",
     "text": [
      "[download] Finished downloading playlist: Yellow\n"
     ]
    }
   ],
   "source": [
    "import os\n",
    "import json\n",
    "import re\n",
    "from yt_dlp import YoutubeDL\n",
    "\n",
    "# Step 1: Create a valid filename function\n",
    "def clean_filename(name):\n",
    "    return re.sub(r'[\\\\/*?:\"<>|]', \"\", name)\n",
    "\n",
    "# Step 2: Prepare metadata dictionary\n",
    "songs_meta = {}\n",
    "\n",
    "# Load existing metadata if present\n",
    "meta_file = \"songs_meta.json\"\n",
    "if os.path.exists(meta_file):\n",
    "    with open(meta_file, \"r\", encoding=\"utf-8\") as f:\n",
    "        songs_meta = json.load(f)\n",
    "\n",
    "# Step 3: Define output directory\n",
    "output_dir = \"songs\"\n",
    "os.makedirs(output_dir, exist_ok=True)\n",
    "\n",
    "# Step 4: Define progress hook\n",
    "def progress_hook(d):\n",
    "    if d['status'] == 'finished':\n",
    "        info = d['info_dict']\n",
    "        title = info.get('title', 'Unknown Title')\n",
    "        artist = info.get('uploader', 'Unknown Artist')\n",
    "        video_id = info.get('id')\n",
    "        ext = info.get('ext', 'mp3')\n",
    "\n",
    "        safe_title = clean_filename(title)\n",
    "        filename = f\"{safe_title}.mp3\"\n",
    "        original_path = f\"{video_id}.{ext}\"\n",
    "        final_path = os.path.join(output_dir, filename)\n",
    "\n",
    "        if os.path.exists(original_path):\n",
    "            os.rename(original_path, final_path)\n",
    "\n",
    "        # Add or update song metadata\n",
    "        songs_meta[safe_title] = {\n",
    "            \"title\": title,\n",
    "            \"artist\": artist,\n",
    "            \"location\": final_path\n",
    "        }\n",
    "\n",
    "# Step 5: Define YT-DLP options\n",
    "def get_yt_dlp_opts():\n",
    "    return {\n",
    "        'format': 'bestaudio/best',\n",
    "        'ignoreerrors': True,\n",
    "        'quiet': False,\n",
    "        'noplaylist': False,\n",
    "        'postprocessors': [{\n",
    "            'key': 'FFmpegExtractAudio',\n",
    "            'preferredcodec': 'mp3',\n",
    "            'preferredquality': '192',\n",
    "        }],\n",
    "        'progress_hooks': [progress_hook],\n",
    "        'outtmpl': '%(id)s.%(ext)s',\n",
    "    }\n",
    "\n",
    "# Step 6: Start download\n",
    "playlist_url = \"https://youtube.com/playlist?list=PLwi5bnlaFJvjbnvBu4aLwuGkQH4F45nUO\"\n",
    "\n",
    "with YoutubeDL(get_yt_dlp_opts()) as ydl:\n",
    "    ydl.download([playlist_url])\n",
    "\n",
    "# Step 7: Save updated metadata\n",
    "with open(meta_file, \"w\", encoding=\"utf-8\") as f:\n",
    "    json.dump(songs_meta, f, indent=4, ensure_ascii=False)\n"
   ]
  },
  {
   "cell_type": "code",
   "execution_count": 2,
   "id": "07d7a6bf",
   "metadata": {},
   "outputs": [],
   "source": [
    "import json\n",
    "songsMeta = {}\n",
    "with open('Backend//songs_meta.json', 'r', encoding='utf-8') as f:\n",
    "    songsMeta = json.load(f)\n",
    "\n",
    "for song in songsMeta.values():\n",
    "    song[\"hash_generated\"] = False\n",
    "\n",
    "with open('Backend//songs_meta.json', 'w', encoding='utf-8') as f:\n",
    "    json.dump(songsMeta, f, indent=4, ensure_ascii=False)\n",
    "\n",
    "\n"
   ]
  },
  {
   "cell_type": "code",
   "execution_count": 7,
   "id": "99f94c0e",
   "metadata": {},
   "outputs": [
    {
     "name": "stdout",
     "output_type": "stream",
     "text": [
      "\n",
      "Namami Shamishan\n",
      "Religious India - Topic\n"
     ]
    }
   ],
   "source": [
    "import numpy as np\n",
    "import librosa\n",
    "from scipy.ndimage import maximum_filter, gaussian_filter\n",
    "\n",
    "from pymongo import MongoClient\n",
    "\n",
    "client = MongoClient(\"mongodb://localhost:27017/\")\n",
    "db=client[\"shazam_db\"]\n",
    "songs_collection=db[\"songs\"]\n",
    "hashes_collection=db[\"hashes\"]\n",
    "\n",
    "\n",
    "def SearchSong(songLocation):\n",
    "    \"\"\"\n",
    "    Search for a song by title and artist.\n",
    "    Returns the fingerprints if found, else None.\n",
    "    \"\"\"\n",
    "    # Step 1: Load the song\n",
    "\n",
    "    y, sr = librosa.load(songLocation, sr=None)\n",
    "\n",
    "    # Step 2: Compute STFT\n",
    "    n_fft = 2048\n",
    "    hop_length = 512\n",
    "    S = librosa.stft(y, n_fft=n_fft, hop_length=hop_length)\n",
    "    S_mag = np.abs(S)\n",
    "\n",
    "    # Step 3: Smooth spectrogram (optional, helps with noisy peaks)\n",
    "    S_smooth = gaussian_filter(S_mag, sigma=1.0)\n",
    "\n",
    "    # Step 4: 2D local maxima detection\n",
    "    neighborhood_size = 20\n",
    "    local_max = maximum_filter(S_smooth, size=neighborhood_size) == S_smooth\n",
    "\n",
    "    # Step 5: Apply a threshold to keep only strong peaks\n",
    "    threshold = np.percentile(S_smooth[local_max], 95)  # keep top 5%\n",
    "    peak_mask = local_max & (S_smooth >= threshold)\n",
    "\n",
    "    # Step 6: Get peak coordinates (freq_bin, time_bin)\n",
    "    peak_indices = np.argwhere(peak_mask)\n",
    "\n",
    "    # Step 7: Convert to time (sec) and frequency (Hz)\n",
    "    peak_freqs = peak_indices[:, 0] * (sr / n_fft)\n",
    "    peak_times = peak_indices[:, 1] * (hop_length / sr)\n",
    "\n",
    "    # Combine for (time, freq) tuples\n",
    "    constellation_map = list(zip(peak_times, peak_freqs))\n",
    "\n",
    "    #get fingerprints\n",
    "    fingerprint = generate_hashes(constellation_map)\n",
    "    score={\n",
    "    }\n",
    "    for h,t_query in fingerprint:\n",
    "        hashIndex = hashes_collection.find({\"hash\": h})\n",
    "        if hashIndex:\n",
    "            for doc in hashIndex:\n",
    "                t_db= doc['time']\n",
    "                song = doc['title']\n",
    "                delta= round(t_db-t_query, 2)\n",
    "                score[(song,delta)] = score.get((song,delta), 0) + 1\n",
    "    best_match = None\n",
    "    best_score = 0\n",
    "\n",
    "    for (song, delta), count in score.items():\n",
    "        if best_match is None or count > best_score:\n",
    "            best_match = song\n",
    "            best_score = count\n",
    "    \n",
    "\n",
    "    return best_match, songs_collection.find_one({\"title\":best_match}) if best_match else None\n",
    "\n",
    "if __name__ ==\"__main__\":\n",
    "    songAddr=\"Testsongs\\\\Namami Shamishan (mp3cut.net).mp3\"\n",
    "\n",
    "    best_match,songsMeta=SearchSong(songAddr)\n",
    "    print()\n",
    "    if songsMeta:\n",
    "        print(songsMeta['title'])\n",
    "        print(songsMeta['artist'])\n",
    "    else:\n",
    "        print(\"No match found.\")\n"
   ]
  }
 ],
 "metadata": {
  "kernelspec": {
   "display_name": ".venv",
   "language": "python",
   "name": "python3"
  },
  "language_info": {
   "codemirror_mode": {
    "name": "ipython",
    "version": 3
   },
   "file_extension": ".py",
   "mimetype": "text/x-python",
   "name": "python",
   "nbconvert_exporter": "python",
   "pygments_lexer": "ipython3",
   "version": "3.12.4"
  }
 },
 "nbformat": 4,
 "nbformat_minor": 5
}
